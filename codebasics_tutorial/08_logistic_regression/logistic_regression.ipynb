{
 "cells": [
  {
   "cell_type": "code",
   "execution_count": 56,
   "metadata": {
    "executionInfo": {
     "elapsed": 3352,
     "status": "ok",
     "timestamp": 1681066585186,
     "user": {
      "displayName": "Sebastian Caicedo",
      "userId": "11764034055416023541"
     },
     "user_tz": 300
    },
    "id": "fBafyFNDtdFM"
   },
   "outputs": [],
   "source": [
    "import pandas as pd\n",
    "import missingno as msno\n",
    "import numpy as np\n",
    "import matplotlib.pyplot as plt\n",
    "from sklearn.impute import SimpleImputer\n",
    "from sklearn.preprocessing import MinMaxScaler\n",
    "from  sklearn.linear_model import LogisticRegression\n",
    "import re"
   ]
  },
  {
   "cell_type": "code",
   "execution_count": 68,
   "metadata": {
    "executionInfo": {
     "elapsed": 285,
     "status": "ok",
     "timestamp": 1681066585466,
     "user": {
      "displayName": "Sebastian Caicedo",
      "userId": "11764034055416023541"
     },
     "user_tz": 300
    },
    "id": "twoZnYsmtJ-N"
   },
   "outputs": [],
   "source": [
    "train_original = pd.read_csv('data/train.csv')\n",
    "test_original = pd.read_csv('data/test.csv')"
   ]
  },
  {
   "cell_type": "markdown",
   "metadata": {
    "id": "LDJq4QSGXazm",
    "tags": []
   },
   "source": [
    "# Plot Data"
   ]
  },
  {
   "cell_type": "markdown",
   "metadata": {
    "id": "MO5FOIuWXsR3",
    "jp-MarkdownHeadingCollapsed": true,
    "tags": []
   },
   "source": [
    "## Pricing"
   ]
  },
  {
   "cell_type": "code",
   "execution_count": 4,
   "metadata": {
    "colab": {
     "base_uri": "https://localhost:8080/",
     "height": 942
    },
    "executionInfo": {
     "elapsed": 1155,
     "status": "ok",
     "timestamp": 1681069462197,
     "user": {
      "displayName": "Sebastian Caicedo",
      "userId": "11764034055416023541"
     },
     "user_tz": 300
    },
    "id": "Fv3-MVy7XqZ4",
    "outputId": "a3d269c0-6013-473f-ac2d-0cb8271cad40"
   },
   "outputs": [
    {
     "data": {
      "text/plain": [
       "<Figure size 640x480 with 0 Axes>"
      ]
     },
     "metadata": {},
     "output_type": "display_data"
    },
    {
     "data": {
      "image/png": "[encoded data removed]",
      "text/plain": [
       "<Figure size 640x480 with 2 Axes>"
      ]
     },
     "metadata": {},
     "output_type": "display_data"
    }
   ],
   "source": [
    "plt.figure(1)\n",
    "train_original.hist(column='Fare', by='Survived', bins=20, grid=False)\n",
    "plt.suptitle('Fare Histograms by Survival category')\n",
    "plt.show()"
   ]
  },
  {
   "cell_type": "markdown",
   "metadata": {
    "id": "zMbQlz8b8kJD",
    "tags": []
   },
   "source": [
    "# Preprocessing"
   ]
  },
  {
   "cell_type": "markdown",
   "metadata": {},
   "source": [
    "Obtain expected values from dataset"
   ]
  },
  {
   "cell_type": "code",
   "execution_count": 69,
   "metadata": {},
   "outputs": [],
   "source": [
    "y = train_original.pop('Survived')"
   ]
  },
  {
   "cell_type": "markdown",
   "metadata": {
    "id": "R3i6NrTn8mrm",
    "tags": []
   },
   "source": [
    "## Fill or remove undefined data"
   ]
  },
  {
   "cell_type": "markdown",
   "metadata": {},
   "source": [
    "We print the amount of missing data in the dataset.\n",
    "\n",
    "Then we can remove the Cabin column since there is more than half the data missing, for the Age and Embarked columns we can impute those values"
   ]
  },
  {
   "cell_type": "code",
   "execution_count": 31,
   "metadata": {
    "colab": {
     "base_uri": "https://localhost:8080/"
    },
    "executionInfo": {
     "elapsed": 7,
     "status": "ok",
     "timestamp": 1680046096348,
     "user": {
      "displayName": "Sebastian Caicedo",
      "userId": "11764034055416023541"
     },
     "user_tz": 300
    },
    "id": "Lr6BXhsOtjld",
    "outputId": "aae8c744-5531-4cca-d9a2-0ad704c8153c"
   },
   "outputs": [
    {
     "name": "stdout",
     "output_type": "stream",
     "text": [
      "Age         177\n",
      "Cabin       687\n",
      "Embarked      2\n",
      "dtype: int64\n",
      "total:  891\n",
      "Age       86\n",
      "Fare       1\n",
      "Cabin    327\n",
      "dtype: int64\n",
      "total:  418\n"
     ]
    }
   ],
   "source": [
    "def check_for_nulls(df):\n",
    "  nulls = (df.isnull().sum())\n",
    "  nulls = nulls[nulls > 0] \n",
    "  if len(nulls) > 0:\n",
    "    print(nulls)\n",
    "  else:\n",
    "    print('No nulls values found')\n",
    "  print('total: ', len(df))\n",
    "check_for_nulls(train_original)\n",
    "check_for_nulls(test_original)"
   ]
  },
  {
   "cell_type": "code",
   "execution_count": 7,
   "metadata": {
    "colab": {
     "base_uri": "https://localhost:8080/"
    },
    "executionInfo": {
     "elapsed": 7,
     "status": "ok",
     "timestamp": 1680046096348,
     "user": {
      "displayName": "Sebastian Caicedo",
      "userId": "11764034055416023541"
     },
     "user_tz": 300
    },
    "id": "Tl1XgCl7qpOO",
    "outputId": "eddafdcb-778c-4bc2-c744-986de728d5bc"
   },
   "outputs": [],
   "source": [
    "def remove_columns(df):\n",
    "  remove_cols = ['PassengerId', 'Cabin']\n",
    "  return df[[col for col in df.columns if col not in remove_cols]]"
   ]
  },
  {
   "cell_type": "code",
   "execution_count": 21,
   "metadata": {
    "id": "ODIGdL5YqADm"
   },
   "outputs": [],
   "source": [
    "def create_imputer(df):\n",
    "  my_imputer = SimpleImputer(strategy='most_frequent')\n",
    "  columns_to_impute = ['Age', 'Embarked', 'Fare']\n",
    "  my_imputer.fit(df[columns_to_impute])\n",
    "  def imputer(df):\n",
    "    df = df.copy()\n",
    "    data_with_imputed_values = my_imputer.transform(df[columns_to_impute])\n",
    "    df_imputed = pd.DataFrame(data=data_with_imputed_values, columns=columns_to_impute)\n",
    "    df_imputed.Age = df_imputed.Age.astype('float32')\n",
    "    df[columns_to_impute] = df_imputed\n",
    "    return df\n",
    "  return (imputer(df), imputer)\n"
   ]
  },
  {
   "cell_type": "code",
   "execution_count": 9,
   "metadata": {},
   "outputs": [],
   "source": [
    "def extract_person_title(df):\n",
    "  df = df.copy()\n",
    "  df['Title'] = df.pop('Name').apply(lambda x: re.search('(?<=,\\s).*?\\.', x).group(0))\n",
    "  return df"
   ]
  },
  {
   "cell_type": "code",
   "execution_count": 10,
   "metadata": {},
   "outputs": [],
   "source": [
    "def hot_encoding(df, columns=None):\n",
    "  \"\"\"Hot encodding 'Ticket' column\"\"\"\n",
    "  df = df.copy()\n",
    "  hot_encodings = []\n",
    "  for col in ['Ticket', 'Sex', 'Embarked', 'Title']:\n",
    "    hot_encoding = pd.get_dummies(df.pop(col))\n",
    "    # remove the last column which is reduntant\n",
    "    hot_encoding = hot_encoding.iloc[:, :-1]\n",
    "    hot_encodings.append(hot_encoding)\n",
    "  df = pd.concat([df, *hot_encodings], axis=1)\n",
    "  if columns is not None and len(columns) > 0:\n",
    "    df = df.reindex(columns=columns,fill_value=0)\n",
    "  return df"
   ]
  },
  {
   "cell_type": "code",
   "execution_count": 47,
   "metadata": {},
   "outputs": [],
   "source": [
    "def normalize_data(df, scaler=None):\n",
    "  if scaler is None:\n",
    "    scaler = MinMaxScaler()\n",
    "    scaler = scaler.fit(df)\n",
    "  scaled_data = scaler.transform(df)\n",
    "  print(type(scaled_data))\n",
    "  print(scaled_data.dtype)\n",
    "  print(scaled_data.shape)\n",
    "  df = pd.DataFrame(scaled_data, columns=df.columns)\n",
    "  return df, scaler\n",
    "  "
   ]
  },
  {
   "cell_type": "code",
   "execution_count": 50,
   "metadata": {},
   "outputs": [],
   "source": [
    "def preprocessing(df, mode='train', imputer=None, columns=None, scaler=None):\n",
    "  if mode != 'train' and not callable(imputer): \n",
    "    raise Exception('if you are not training, you need to provide an imputer for the data')\n",
    "  df = remove_columns(df)\n",
    "  if mode == 'train':\n",
    "    df, imputer = create_imputer(df)\n",
    "  else:\n",
    "    df = imputer(df)\n",
    "  df = extract_person_title(df)\n",
    "  df = hot_encoding(df, columns=columns)\n",
    "  if mode == 'train':\n",
    "    df, scaler = normalize_data(df)\n",
    "  else:\n",
    "    df, _ = normalize_data(df, scaler)\n",
    "  return df, imputer"
   ]
  },
  {
   "cell_type": "code",
   "execution_count": 51,
   "metadata": {},
   "outputs": [
    {
     "name": "stdout",
     "output_type": "stream",
     "text": [
      "<class 'numpy.ndarray'>\n",
      "float64\n",
      "(891, 704)\n",
      "<class 'numpy.ndarray'>\n",
      "float64\n",
      "(418, 704)\n"
     ]
    }
   ],
   "source": [
    "train, imputer = preprocessing(train_original)\n",
    "test, _ = preprocessing(test_original, mode='test', imputer=imputer, columns=train.columns)"
   ]
  },
  {
   "cell_type": "code",
   "execution_count": 52,
   "metadata": {
    "colab": {
     "base_uri": "https://localhost:8080/"
    },
    "executionInfo": {
     "elapsed": 7,
     "status": "ok",
     "timestamp": 1680046096348,
     "user": {
      "displayName": "Sebastian Caicedo",
      "userId": "11764034055416023541"
     },
     "user_tz": 300
    },
    "id": "Lr6BXhsOtjld",
    "outputId": "aae8c744-5531-4cca-d9a2-0ad704c8153c"
   },
   "outputs": [
    {
     "name": "stdout",
     "output_type": "stream",
     "text": [
      "No nulls values found\n",
      "total:  891\n",
      "No nulls values found\n",
      "total:  418\n"
     ]
    }
   ],
   "source": [
    "check_for_nulls(train)\n",
    "check_for_nulls(test)"
   ]
  },
  {
   "cell_type": "markdown",
   "metadata": {
    "id": "xjmMRBc6S8gs",
    "tags": []
   },
   "source": [
    "# Model"
   ]
  },
  {
   "cell_type": "markdown",
   "metadata": {
    "id": "7CccfvXAZ6Ld"
   },
   "source": [
    "## Divide training data into training and validating data"
   ]
  },
  {
   "cell_type": "code",
   "execution_count": 70,
   "metadata": {
    "id": "AaTH6RcKZ-FI"
   },
   "outputs": [],
   "source": [
    "l = train.shape[0] // 4\n",
    "\n",
    "val_data = train[:l]\n",
    "val_y = y_train[:l]\n",
    "train_data = train[l:]\n",
    "train_y = y[l:]\n"
   ]
  },
  {
   "cell_type": "markdown",
   "metadata": {
    "id": "IRdhs29lfVc5",
    "tags": []
   },
   "source": [
    "## Create model"
   ]
  },
  {
   "cell_type": "code",
   "execution_count": 86,
   "metadata": {},
   "outputs": [
    {
     "data": {
      "text/html": [
       "<style>#sk-container-id-8 {color: black;background-color: white;}#sk-container-id-8 pre{padding: 0;}#sk-container-id-8 div.sk-toggleable {background-color: white;}#sk-container-id-8 label.sk-toggleable__label {cursor: pointer;display: block;width: 100%;margin-bottom: 0;padding: 0.3em;box-sizing: border-box;text-align: center;}#sk-container-id-8 label.sk-toggleable__label-arrow:before {content: \"▸\";float: left;margin-right: 0.25em;color: #696969;}#sk-container-id-8 label.sk-toggleable__label-arrow:hover:before {color: black;}#sk-container-id-8 div.sk-estimator:hover label.sk-toggleable__label-arrow:before {color: black;}#sk-container-id-8 div.sk-toggleable__content {max-height: 0;max-width: 0;overflow: hidden;text-align: left;background-color: #f0f8ff;}#sk-container-id-8 div.sk-toggleable__content pre {margin: 0.2em;color: black;border-radius: 0.25em;background-color: #f0f8ff;}#sk-container-id-8 input.sk-toggleable__control:checked~div.sk-toggleable__content {max-height: 200px;max-width: 100%;overflow: auto;}#sk-container-id-8 input.sk-toggleable__control:checked~label.sk-toggleable__label-arrow:before {content: \"▾\";}#sk-container-id-8 div.sk-estimator input.sk-toggleable__control:checked~label.sk-toggleable__label {background-color: #d4ebff;}#sk-container-id-8 div.sk-label input.sk-toggleable__control:checked~label.sk-toggleable__label {background-color: #d4ebff;}#sk-container-id-8 input.sk-hidden--visually {border: 0;clip: rect(1px 1px 1px 1px);clip: rect(1px, 1px, 1px, 1px);height: 1px;margin: -1px;overflow: hidden;padding: 0;position: absolute;width: 1px;}#sk-container-id-8 div.sk-estimator {font-family: monospace;background-color: #f0f8ff;border: 1px dotted black;border-radius: 0.25em;box-sizing: border-box;margin-bottom: 0.5em;}#sk-container-id-8 div.sk-estimator:hover {background-color: #d4ebff;}#sk-container-id-8 div.sk-parallel-item::after {content: \"\";width: 100%;border-bottom: 1px solid gray;flex-grow: 1;}#sk-container-id-8 div.sk-label:hover label.sk-toggleable__label {background-color: #d4ebff;}#sk-container-id-8 div.sk-serial::before {content: \"\";position: absolute;border-left: 1px solid gray;box-sizing: border-box;top: 0;bottom: 0;left: 50%;z-index: 0;}#sk-container-id-8 div.sk-serial {display: flex;flex-direction: column;align-items: center;background-color: white;padding-right: 0.2em;padding-left: 0.2em;position: relative;}#sk-container-id-8 div.sk-item {position: relative;z-index: 1;}#sk-container-id-8 div.sk-parallel {display: flex;align-items: stretch;justify-content: center;background-color: white;position: relative;}#sk-container-id-8 div.sk-item::before, #sk-container-id-8 div.sk-parallel-item::before {content: \"\";position: absolute;border-left: 1px solid gray;box-sizing: border-box;top: 0;bottom: 0;left: 50%;z-index: -1;}#sk-container-id-8 div.sk-parallel-item {display: flex;flex-direction: column;z-index: 1;position: relative;background-color: white;}#sk-container-id-8 div.sk-parallel-item:first-child::after {align-self: flex-end;width: 50%;}#sk-container-id-8 div.sk-parallel-item:last-child::after {align-self: flex-start;width: 50%;}#sk-container-id-8 div.sk-parallel-item:only-child::after {width: 0;}#sk-container-id-8 div.sk-dashed-wrapped {border: 1px dashed gray;margin: 0 0.4em 0.5em 0.4em;box-sizing: border-box;padding-bottom: 0.4em;background-color: white;}#sk-container-id-8 div.sk-label label {font-family: monospace;font-weight: bold;display: inline-block;line-height: 1.2em;}#sk-container-id-8 div.sk-label-container {text-align: center;}#sk-container-id-8 div.sk-container {/* jupyter's `normalize.less` sets `[hidden] { display: none; }` but bootstrap.min.css set `[hidden] { display: none !important; }` so we also need the `!important` here to be able to override the default hidden behavior on the sphinx rendered scikit-learn.org. See: https://github.com/scikit-learn/scikit-learn/issues/21755 */display: inline-block !important;position: relative;}#sk-container-id-8 div.sk-text-repr-fallback {display: none;}</style><div id=\"sk-container-id-8\" class=\"sk-top-container\"><div class=\"sk-text-repr-fallback\"><pre>LogisticRegression(max_iter=1000)</pre><b>In a Jupyter environment, please rerun this cell to show the HTML representation or trust the notebook. <br />On GitHub, the HTML representation is unable to render, please try loading this page with nbviewer.org.</b></div><div class=\"sk-container\" hidden><div class=\"sk-item\"><div class=\"sk-estimator sk-toggleable\"><input class=\"sk-toggleable__control sk-hidden--visually\" id=\"sk-estimator-id-8\" type=\"checkbox\" checked><label for=\"sk-estimator-id-8\" class=\"sk-toggleable__label sk-toggleable__label-arrow\">LogisticRegression</label><div class=\"sk-toggleable__content\"><pre>LogisticRegression(max_iter=1000)</pre></div></div></div></div></div>"
      ],
      "text/plain": [
       "LogisticRegression(max_iter=1000)"
      ]
     },
     "execution_count": 86,
     "metadata": {},
     "output_type": "execute_result"
    }
   ],
   "source": [
    "model = LogisticRegression(max_iter=1000, verbose=0)\n",
    "# model.fit(train_data,train_y)\n",
    "model.fit(train,y)"
   ]
  },
  {
   "cell_type": "code",
   "execution_count": 87,
   "metadata": {},
   "outputs": [
    {
     "name": "stdout",
     "output_type": "stream",
     "text": [
      "0.8923766816143498\n",
      "0.8963963963963963\n"
     ]
    }
   ],
   "source": [
    "print(model.score(train_data, train_y))\n",
    "print(model.score(val_data, val_y))"
   ]
  },
  {
   "cell_type": "markdown",
   "metadata": {
    "id": "xsk2MOukfxDD"
   },
   "source": [
    "## Compare validation results to expected"
   ]
  },
  {
   "cell_type": "code",
   "execution_count": 63,
   "metadata": {
    "id": "5LfDEHRgfSAy"
   },
   "outputs": [],
   "source": [
    "def get_prediction(md, v_data):\n",
    "  val_prediction = md.predict(v_data)\n",
    "  val_prediction[val_prediction >= 0.5] = 1\n",
    "  val_prediction[val_prediction < 0.5] = 0\n",
    "  val_pred = val_prediction.flatten()\n",
    "  return val_pred\n",
    "\n",
    "def compare_resutls_to_pred(md, v_data, v_y):\n",
    "  val_pred = get_prediction(md, v_data)\n",
    "  val_y_array = v_y.to_numpy()\n",
    "  diffs = abs(val_y_array - val_pred)\n",
    "  #wrong_indices = np.where(diffs == 1)\n",
    "  # print(wrong_indices)\n",
    "  # previous: (array([ 10,  17,  18,  20,  36,  41,  74,  81,  83, 100, 107, 113, 119,\n",
    "  #  127, 137, 140, 146, 199, 204, 205, 207, 220])\n",
    "  wrongs_number = sum(diffs)\n",
    "  print(wrongs_number)\n",
    "  print(f'{int(wrongs_number)} wrong predcitions out of {v_y.shape[0]}')\n",
    "  print('{:.2f}% wrong'.format(int(wrongs_number) * 100 / v_y.shape[0]))"
   ]
  },
  {
   "cell_type": "code",
   "execution_count": 76,
   "metadata": {
    "colab": {
     "base_uri": "https://localhost:8080/"
    },
    "executionInfo": {
     "elapsed": 249,
     "status": "ok",
     "timestamp": 1680046195933,
     "user": {
      "displayName": "Sebastian Caicedo",
      "userId": "11764034055416023541"
     },
     "user_tz": 300
    },
    "id": "uVcnoMg7pwC1",
    "outputId": "3ad0f791-04ab-4e9a-e32b-fdbdd41c9b4d"
   },
   "outputs": [
    {
     "name": "stdout",
     "output_type": "stream",
     "text": [
      "34\n",
      "34 wrong predcitions out of 222\n",
      "15.32% wrong\n"
     ]
    }
   ],
   "source": [
    "compare_resutls_to_pred(model, val_data, val_y)"
   ]
  },
  {
   "cell_type": "markdown",
   "metadata": {
    "id": "eI_0SGkvZLul"
   },
   "source": [
    "## Predict Tests outputs"
   ]
  },
  {
   "cell_type": "code",
   "execution_count": 88,
   "metadata": {
    "colab": {
     "base_uri": "https://localhost:8080/"
    },
    "executionInfo": {
     "elapsed": 266,
     "status": "ok",
     "timestamp": 1680046272483,
     "user": {
      "displayName": "Sebastian Caicedo",
      "userId": "11764034055416023541"
     },
     "user_tz": 300
    },
    "id": "KjeyZln2ZKjy",
    "outputId": "d62a1948-3167-4563-9b89-6dfa13e65eb0"
   },
   "outputs": [
    {
     "name": "stdout",
     "output_type": "stream",
     "text": [
      "(418,)\n",
      "   Survived  PassengerId\n",
      "0         0          892\n",
      "1         1          893\n",
      "2         0          894\n",
      "3         0          895\n",
      "4         1          896\n",
      "         Survived  PassengerId\n",
      "count  418.000000   418.000000\n",
      "mean     0.385167  1100.500000\n",
      "std      0.487218   120.810458\n",
      "min      0.000000   892.000000\n",
      "25%      0.000000   996.250000\n",
      "50%      0.000000  1100.500000\n",
      "75%      1.000000  1204.750000\n",
      "max      1.000000  1309.000000\n"
     ]
    }
   ],
   "source": [
    "ans = get_prediction(model, test)\n",
    "print(ans.shape)\n",
    "ans_df = pd.DataFrame(ans)\n",
    "ans_df.columns = ['Survived']\n",
    "ps_id_label = 'PassengerId'\n",
    "ans_df['Survived'] = ans_df['Survived'].astype(np.int16)\n",
    "ans_df[ps_id_label] = test_original[ps_id_label]\n",
    "print(ans_df.head())\n",
    "print(ans_df.describe())"
   ]
  },
  {
   "cell_type": "code",
   "execution_count": 89,
   "metadata": {
    "id": "b4S9qGeaecrL"
   },
   "outputs": [],
   "source": [
    "file_name = 'my_answer_logistic_regression.csv'\n",
    "ans_df.to_csv(file_name, columns=['PassengerId', 'Survived'], index=False)"
   ]
  },
  {
   "cell_type": "code",
   "execution_count": 90,
   "metadata": {
    "colab": {
     "base_uri": "https://localhost:8080/"
    },
    "executionInfo": {
     "elapsed": 226,
     "status": "ok",
     "timestamp": 1680046280814,
     "user": {
      "displayName": "Sebastian Caicedo",
      "userId": "11764034055416023541"
     },
     "user_tz": 300
    },
    "id": "RI2g9Wtqg7qw",
    "outputId": "bbb020c0-6ed5-498a-f14b-c146ccc05a42"
   },
   "outputs": [
    {
     "name": "stdout",
     "output_type": "stream",
     "text": [
      "PassengerId,Survived\n",
      "892,0\n",
      "893,1\n",
      "894,0\n",
      "895,0\n",
      "896,1\n",
      "897,0\n",
      "898,1\n",
      "899,0\n",
      "900,1\n"
     ]
    }
   ],
   "source": [
    "!cat $file_name | head"
   ]
  }
 ],
 "metadata": {
  "colab": {
   "authorship_tag": "ABX9TyOISa6qkxAbAbIOA+13r06T",
   "provenance": []
  },
  "gpuClass": "standard",
  "kernelspec": {
   "display_name": "Python 3 (ipykernel)",
   "language": "python",
   "name": "python3"
  },
  "language_info": {
   "codemirror_mode": {
    "name": "ipython",
    "version": 3
   },
   "file_extension": ".py",
   "mimetype": "text/x-python",
   "name": "python",
   "nbconvert_exporter": "python",
   "pygments_lexer": "ipython3",
   "version": "3.10.9"
  },
  "toc-autonumbering": false
 },
 "nbformat": 4,
 "nbformat_minor": 4
}
