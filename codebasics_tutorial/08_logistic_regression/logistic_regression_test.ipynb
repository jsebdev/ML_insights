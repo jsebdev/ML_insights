{
 "cells": [
  {
   "cell_type": "code",
   "execution_count": 30,
   "id": "a7933302-1142-4520-b313-87005155cbbc",
   "metadata": {},
   "outputs": [],
   "source": [
    "import pandas as pd\n",
    "import math\n",
    "import numpy as np"
   ]
  },
  {
   "cell_type": "markdown",
   "id": "c61f3390-38ee-4dff-bcc0-b2e186e05414",
   "metadata": {
    "tags": []
   },
   "source": [
    "# Creating the Dataframe"
   ]
  },
  {
   "cell_type": "code",
   "execution_count": 96,
   "id": "1286584c-a186-41c1-b316-8eeb843be2f7",
   "metadata": {},
   "outputs": [
    {
     "name": "stdout",
     "output_type": "stream",
     "text": [
      "  X1 X2  y\n",
      "0  a  a  0\n",
      "1  a  b  0\n",
      "2  a  c  1\n",
      "3  b  a  0\n",
      "4  b  b  1\n",
      "5  b  c  1\n",
      "6  c  a  1\n",
      "7  c  b  1\n",
      "8  c  c  1\n"
     ]
    }
   ],
   "source": [
    "df = pd.DataFrame({'X1': ['a','a','a','b','b','b','c','c','c'], 'X2': ['a','b','c','a','b','c','a','b','c'],\n",
    "                   'y': [0,0,1,0,1,1,1,1,1]})\n",
    "print(df)\n",
    "df = pd.concat([df,df,df,df,df,df])"
   ]
  },
  {
   "cell_type": "code",
   "execution_count": 97,
   "id": "e041ef7c-3d04-405a-ad88-7c940817d940",
   "metadata": {},
   "outputs": [],
   "source": [
    "df_train = pd.get_dummies(df)"
   ]
  },
  {
   "cell_type": "code",
   "execution_count": 98,
   "id": "258a8945-915d-4c22-a2c1-ab231de4d0ba",
   "metadata": {},
   "outputs": [
    {
     "name": "stdout",
     "output_type": "stream",
     "text": [
      "   X1_a  X1_b  X1_c  X2_a  X2_b  X2_c\n",
      "0     1     0     0     1     0     0\n",
      "1     1     0     0     0     1     0\n",
      "2     1     0     0     0     0     1\n",
      "3     0     1     0     1     0     0\n",
      "4     0     1     0     0     1     0\n",
      "0    0\n",
      "1    0\n",
      "2    1\n",
      "3    0\n",
      "4    1\n",
      "Name: y, dtype: int64\n"
     ]
    }
   ],
   "source": [
    "y = df_train.pop('y')\n",
    "print(df_train.head())\n",
    "print(y.head())"
   ]
  },
  {
   "cell_type": "code",
   "execution_count": 34,
   "id": "605795ef-1c30-470b-b53b-f9c6f6f44153",
   "metadata": {},
   "outputs": [],
   "source": [
    "from  sklearn.linear_model import LogisticRegression as LR"
   ]
  },
  {
   "cell_type": "markdown",
   "id": "f2125f17-1e98-4b95-afaf-d076c076eeda",
   "metadata": {
    "tags": []
   },
   "source": [
    "# First model (with all hot encoding)"
   ]
  },
  {
   "cell_type": "code",
   "execution_count": 91,
   "id": "1332a6f3-3fdd-40ac-94ae-1f1a93b74d9d",
   "metadata": {},
   "outputs": [],
   "source": [
    "model = LR(solver='liblinear', verbose=1)"
   ]
  },
  {
   "cell_type": "code",
   "execution_count": 92,
   "id": "73eefebc-0479-4ac9-ae31-91fbcfe10c0c",
   "metadata": {},
   "outputs": [
    {
     "name": "stdout",
     "output_type": "stream",
     "text": [
      "[LibLinear]iter  1 act 1.588e+00 pre 1.538e+00 delta 1.254e+00 f 6.238e+00 |g| 2.784e+00 CG   2\n",
      "iter  2 act 7.738e-03 pre 7.671e-03 delta 1.254e+00 f 4.651e+00 |g| 1.990e-01 CG   2\n",
      "iter  3 act 1.534e-06 pre 1.534e-06 delta 1.254e+00 f 4.643e+00 |g| 2.846e-03 CG   2\n"
     ]
    },
    {
     "data": {
      "text/html": [
       "<style>#sk-container-id-14 {color: black;background-color: white;}#sk-container-id-14 pre{padding: 0;}#sk-container-id-14 div.sk-toggleable {background-color: white;}#sk-container-id-14 label.sk-toggleable__label {cursor: pointer;display: block;width: 100%;margin-bottom: 0;padding: 0.3em;box-sizing: border-box;text-align: center;}#sk-container-id-14 label.sk-toggleable__label-arrow:before {content: \"▸\";float: left;margin-right: 0.25em;color: #696969;}#sk-container-id-14 label.sk-toggleable__label-arrow:hover:before {color: black;}#sk-container-id-14 div.sk-estimator:hover label.sk-toggleable__label-arrow:before {color: black;}#sk-container-id-14 div.sk-toggleable__content {max-height: 0;max-width: 0;overflow: hidden;text-align: left;background-color: #f0f8ff;}#sk-container-id-14 div.sk-toggleable__content pre {margin: 0.2em;color: black;border-radius: 0.25em;background-color: #f0f8ff;}#sk-container-id-14 input.sk-toggleable__control:checked~div.sk-toggleable__content {max-height: 200px;max-width: 100%;overflow: auto;}#sk-container-id-14 input.sk-toggleable__control:checked~label.sk-toggleable__label-arrow:before {content: \"▾\";}#sk-container-id-14 div.sk-estimator input.sk-toggleable__control:checked~label.sk-toggleable__label {background-color: #d4ebff;}#sk-container-id-14 div.sk-label input.sk-toggleable__control:checked~label.sk-toggleable__label {background-color: #d4ebff;}#sk-container-id-14 input.sk-hidden--visually {border: 0;clip: rect(1px 1px 1px 1px);clip: rect(1px, 1px, 1px, 1px);height: 1px;margin: -1px;overflow: hidden;padding: 0;position: absolute;width: 1px;}#sk-container-id-14 div.sk-estimator {font-family: monospace;background-color: #f0f8ff;border: 1px dotted black;border-radius: 0.25em;box-sizing: border-box;margin-bottom: 0.5em;}#sk-container-id-14 div.sk-estimator:hover {background-color: #d4ebff;}#sk-container-id-14 div.sk-parallel-item::after {content: \"\";width: 100%;border-bottom: 1px solid gray;flex-grow: 1;}#sk-container-id-14 div.sk-label:hover label.sk-toggleable__label {background-color: #d4ebff;}#sk-container-id-14 div.sk-serial::before {content: \"\";position: absolute;border-left: 1px solid gray;box-sizing: border-box;top: 0;bottom: 0;left: 50%;z-index: 0;}#sk-container-id-14 div.sk-serial {display: flex;flex-direction: column;align-items: center;background-color: white;padding-right: 0.2em;padding-left: 0.2em;position: relative;}#sk-container-id-14 div.sk-item {position: relative;z-index: 1;}#sk-container-id-14 div.sk-parallel {display: flex;align-items: stretch;justify-content: center;background-color: white;position: relative;}#sk-container-id-14 div.sk-item::before, #sk-container-id-14 div.sk-parallel-item::before {content: \"\";position: absolute;border-left: 1px solid gray;box-sizing: border-box;top: 0;bottom: 0;left: 50%;z-index: -1;}#sk-container-id-14 div.sk-parallel-item {display: flex;flex-direction: column;z-index: 1;position: relative;background-color: white;}#sk-container-id-14 div.sk-parallel-item:first-child::after {align-self: flex-end;width: 50%;}#sk-container-id-14 div.sk-parallel-item:last-child::after {align-self: flex-start;width: 50%;}#sk-container-id-14 div.sk-parallel-item:only-child::after {width: 0;}#sk-container-id-14 div.sk-dashed-wrapped {border: 1px dashed gray;margin: 0 0.4em 0.5em 0.4em;box-sizing: border-box;padding-bottom: 0.4em;background-color: white;}#sk-container-id-14 div.sk-label label {font-family: monospace;font-weight: bold;display: inline-block;line-height: 1.2em;}#sk-container-id-14 div.sk-label-container {text-align: center;}#sk-container-id-14 div.sk-container {/* jupyter's `normalize.less` sets `[hidden] { display: none; }` but bootstrap.min.css set `[hidden] { display: none !important; }` so we also need the `!important` here to be able to override the default hidden behavior on the sphinx rendered scikit-learn.org. See: https://github.com/scikit-learn/scikit-learn/issues/21755 */display: inline-block !important;position: relative;}#sk-container-id-14 div.sk-text-repr-fallback {display: none;}</style><div id=\"sk-container-id-14\" class=\"sk-top-container\"><div class=\"sk-text-repr-fallback\"><pre>LogisticRegression(solver=&#x27;liblinear&#x27;, verbose=1)</pre><b>In a Jupyter environment, please rerun this cell to show the HTML representation or trust the notebook. <br />On GitHub, the HTML representation is unable to render, please try loading this page with nbviewer.org.</b></div><div class=\"sk-container\" hidden><div class=\"sk-item\"><div class=\"sk-estimator sk-toggleable\"><input class=\"sk-toggleable__control sk-hidden--visually\" id=\"sk-estimator-id-14\" type=\"checkbox\" checked><label for=\"sk-estimator-id-14\" class=\"sk-toggleable__label sk-toggleable__label-arrow\">LogisticRegression</label><div class=\"sk-toggleable__content\"><pre>LogisticRegression(solver=&#x27;liblinear&#x27;, verbose=1)</pre></div></div></div></div></div>"
      ],
      "text/plain": [
       "LogisticRegression(solver='liblinear', verbose=1)"
      ]
     },
     "execution_count": 92,
     "metadata": {},
     "output_type": "execute_result"
    }
   ],
   "source": [
    "model.fit(df_train,y)"
   ]
  },
  {
   "cell_type": "code",
   "execution_count": 93,
   "id": "2d6835ac-3139-40a8-b432-b4750708317d",
   "metadata": {},
   "outputs": [
    {
     "name": "stdout",
     "output_type": "stream",
     "text": [
      "[0 0 1 0 1 1 1 1 1]\n",
      "[0 0 1 0 1 1 1 1 1]\n"
     ]
    }
   ],
   "source": [
    "print(model.predict(df_train))\n",
    "print(y.to_numpy())"
   ]
  },
  {
   "cell_type": "code",
   "execution_count": 38,
   "id": "f2e364fe-3e05-43be-b9a5-3dd12408ef41",
   "metadata": {},
   "outputs": [
    {
     "name": "stdout",
     "output_type": "stream",
     "text": [
      "[-1.593776170262741, -0.12262905777237422, 1.716382031083012, -1.5937761702627415, -0.12262905777237408, 1.716382031083012]\n",
      "1.1639849995974119\n"
     ]
    }
   ],
   "source": [
    "print(model.coef_[0].tolist())\n",
    "print(model.intercept_[0])"
   ]
  },
  {
   "cell_type": "code",
   "execution_count": 90,
   "id": "d20ad1af-bddd-41c7-a24d-f82a73ddab2b",
   "metadata": {},
   "outputs": [
    {
     "data": {
      "text/plain": [
       "1.0"
      ]
     },
     "execution_count": 90,
     "metadata": {},
     "output_type": "execute_result"
    }
   ],
   "source": [
    "model.score(df_train, y)"
   ]
  },
  {
   "cell_type": "code",
   "execution_count": 40,
   "id": "57e179c3-f5f3-4e05-a225-1f3b2a76150f",
   "metadata": {},
   "outputs": [],
   "source": [
    "def model_man(X):\n",
    "    b = model.coef_[0].tolist()\n",
    "    b0 = model.intercept_[0]\n",
    "    val = 1 / (1 + math.exp(-(np.dot(X,b) + b0)))\n",
    "    return val"
   ]
  },
  {
   "cell_type": "code",
   "execution_count": 41,
   "id": "5e245b46-6aa8-49ce-bb8d-b42e9539c426",
   "metadata": {},
   "outputs": [],
   "source": [
    "def my_model_man(X):\n",
    "    b = [1,2,3,1,2,3]\n",
    "    b0 = -3.5\n",
    "    val = 1 / (1 + math.exp(-(np.dot(X,b) + b0)))\n",
    "    return val"
   ]
  },
  {
   "cell_type": "code",
   "execution_count": 42,
   "id": "79585baf-ec05-4a95-930f-fef271246b00",
   "metadata": {},
   "outputs": [],
   "source": [
    "def check_results_models(m):\n",
    "    expected = y.to_numpy().tolist()\n",
    "    results = []\n",
    "    for i in df_train.index:\n",
    "        results.append(1 if m(df_train.iloc[i]) >= 0.5 else 0)\n",
    "    print(results)\n",
    "    print(expected)\n",
    "    print('{}/{} wrong!'.format(sum([1 if r != ex else 0 for r,ex in zip(results, expected)]),(len(expected))))\n"
   ]
  },
  {
   "cell_type": "code",
   "execution_count": 43,
   "id": "226093b6-0b13-4e64-80b5-2ae2e64d3e00",
   "metadata": {},
   "outputs": [
    {
     "name": "stdout",
     "output_type": "stream",
     "text": [
      "model by sklearn\n",
      "[0, 0, 1, 0, 1, 1, 1, 1, 1, 0, 0, 1, 0, 1, 1, 1, 1, 1, 0, 0, 1, 0, 1, 1, 1, 1, 1, 0, 0, 1, 0, 1, 1, 1, 1, 1, 0, 0, 1, 0, 1, 1, 1, 1, 1, 0, 0, 1, 0, 1, 1, 1, 1, 1]\n",
      "[0, 0, 1, 0, 1, 1, 1, 1, 1, 0, 0, 1, 0, 1, 1, 1, 1, 1, 0, 0, 1, 0, 1, 1, 1, 1, 1, 0, 0, 1, 0, 1, 1, 1, 1, 1, 0, 0, 1, 0, 1, 1, 1, 1, 1, 0, 0, 1, 0, 1, 1, 1, 1, 1]\n",
      "0/54 wrong!\n"
     ]
    }
   ],
   "source": [
    "print('model by sklearn')\n",
    "check_results_models(model_man)"
   ]
  },
  {
   "cell_type": "code",
   "execution_count": 44,
   "id": "73ff78cd-be99-4037-84b1-a3da9e6ba35f",
   "metadata": {},
   "outputs": [
    {
     "name": "stdout",
     "output_type": "stream",
     "text": [
      "model by me\n",
      "[0, 0, 1, 0, 1, 1, 1, 1, 1, 0, 0, 1, 0, 1, 1, 1, 1, 1, 0, 0, 1, 0, 1, 1, 1, 1, 1, 0, 0, 1, 0, 1, 1, 1, 1, 1, 0, 0, 1, 0, 1, 1, 1, 1, 1, 0, 0, 1, 0, 1, 1, 1, 1, 1]\n",
      "[0, 0, 1, 0, 1, 1, 1, 1, 1, 0, 0, 1, 0, 1, 1, 1, 1, 1, 0, 0, 1, 0, 1, 1, 1, 1, 1, 0, 0, 1, 0, 1, 1, 1, 1, 1, 0, 0, 1, 0, 1, 1, 1, 1, 1, 0, 0, 1, 0, 1, 1, 1, 1, 1]\n",
      "0/54 wrong!\n"
     ]
    }
   ],
   "source": [
    "print('model by me')\n",
    "check_results_models(my_model_man)"
   ]
  },
  {
   "cell_type": "markdown",
   "id": "1c338240-9708-4d9e-8ec0-c0f8b1f323dc",
   "metadata": {
    "tags": []
   },
   "source": [
    "# Second Model, without the c hot encoding"
   ]
  },
  {
   "cell_type": "code",
   "execution_count": 107,
   "id": "df12e1b8-ddca-48f1-8fb9-5ee49c7716a0",
   "metadata": {},
   "outputs": [
    {
     "data": {
      "text/html": [
       "<div>\n",
       "<style scoped>\n",
       "    .dataframe tbody tr th:only-of-type {\n",
       "        vertical-align: middle;\n",
       "    }\n",
       "\n",
       "    .dataframe tbody tr th {\n",
       "        vertical-align: top;\n",
       "    }\n",
       "\n",
       "    .dataframe thead th {\n",
       "        text-align: right;\n",
       "    }\n",
       "</style>\n",
       "<table border=\"1\" class=\"dataframe\">\n",
       "  <thead>\n",
       "    <tr style=\"text-align: right;\">\n",
       "      <th></th>\n",
       "      <th>X1_b</th>\n",
       "      <th>X1_c</th>\n",
       "      <th>X2_b</th>\n",
       "      <th>X2_c</th>\n",
       "    </tr>\n",
       "  </thead>\n",
       "  <tbody>\n",
       "    <tr>\n",
       "      <th>0</th>\n",
       "      <td>0</td>\n",
       "      <td>0</td>\n",
       "      <td>0</td>\n",
       "      <td>0</td>\n",
       "    </tr>\n",
       "    <tr>\n",
       "      <th>1</th>\n",
       "      <td>0</td>\n",
       "      <td>0</td>\n",
       "      <td>1</td>\n",
       "      <td>0</td>\n",
       "    </tr>\n",
       "    <tr>\n",
       "      <th>2</th>\n",
       "      <td>0</td>\n",
       "      <td>0</td>\n",
       "      <td>0</td>\n",
       "      <td>1</td>\n",
       "    </tr>\n",
       "    <tr>\n",
       "      <th>3</th>\n",
       "      <td>1</td>\n",
       "      <td>0</td>\n",
       "      <td>0</td>\n",
       "      <td>0</td>\n",
       "    </tr>\n",
       "    <tr>\n",
       "      <th>4</th>\n",
       "      <td>1</td>\n",
       "      <td>0</td>\n",
       "      <td>1</td>\n",
       "      <td>0</td>\n",
       "    </tr>\n",
       "  </tbody>\n",
       "</table>\n",
       "</div>"
      ],
      "text/plain": [
       "   X1_b  X1_c  X2_b  X2_c\n",
       "0     0     0     0     0\n",
       "1     0     0     1     0\n",
       "2     0     0     0     1\n",
       "3     1     0     0     0\n",
       "4     1     0     1     0"
      ]
     },
     "execution_count": 107,
     "metadata": {},
     "output_type": "execute_result"
    }
   ],
   "source": [
    "df_train2 = df_train[[c for c in df_train.columns if c not in ['X1_a', 'X2_a', 'y']]]\n",
    "df_train2.head()"
   ]
  },
  {
   "cell_type": "code",
   "execution_count": 108,
   "id": "5c3b3c7a-6406-46bc-a0ed-90b36fc2b2af",
   "metadata": {},
   "outputs": [
    {
     "name": "stdout",
     "output_type": "stream",
     "text": [
      "[LibLinear]"
     ]
    },
    {
     "data": {
      "text/html": [
       "<style>#sk-container-id-18 {color: black;background-color: white;}#sk-container-id-18 pre{padding: 0;}#sk-container-id-18 div.sk-toggleable {background-color: white;}#sk-container-id-18 label.sk-toggleable__label {cursor: pointer;display: block;width: 100%;margin-bottom: 0;padding: 0.3em;box-sizing: border-box;text-align: center;}#sk-container-id-18 label.sk-toggleable__label-arrow:before {content: \"▸\";float: left;margin-right: 0.25em;color: #696969;}#sk-container-id-18 label.sk-toggleable__label-arrow:hover:before {color: black;}#sk-container-id-18 div.sk-estimator:hover label.sk-toggleable__label-arrow:before {color: black;}#sk-container-id-18 div.sk-toggleable__content {max-height: 0;max-width: 0;overflow: hidden;text-align: left;background-color: #f0f8ff;}#sk-container-id-18 div.sk-toggleable__content pre {margin: 0.2em;color: black;border-radius: 0.25em;background-color: #f0f8ff;}#sk-container-id-18 input.sk-toggleable__control:checked~div.sk-toggleable__content {max-height: 200px;max-width: 100%;overflow: auto;}#sk-container-id-18 input.sk-toggleable__control:checked~label.sk-toggleable__label-arrow:before {content: \"▾\";}#sk-container-id-18 div.sk-estimator input.sk-toggleable__control:checked~label.sk-toggleable__label {background-color: #d4ebff;}#sk-container-id-18 div.sk-label input.sk-toggleable__control:checked~label.sk-toggleable__label {background-color: #d4ebff;}#sk-container-id-18 input.sk-hidden--visually {border: 0;clip: rect(1px 1px 1px 1px);clip: rect(1px, 1px, 1px, 1px);height: 1px;margin: -1px;overflow: hidden;padding: 0;position: absolute;width: 1px;}#sk-container-id-18 div.sk-estimator {font-family: monospace;background-color: #f0f8ff;border: 1px dotted black;border-radius: 0.25em;box-sizing: border-box;margin-bottom: 0.5em;}#sk-container-id-18 div.sk-estimator:hover {background-color: #d4ebff;}#sk-container-id-18 div.sk-parallel-item::after {content: \"\";width: 100%;border-bottom: 1px solid gray;flex-grow: 1;}#sk-container-id-18 div.sk-label:hover label.sk-toggleable__label {background-color: #d4ebff;}#sk-container-id-18 div.sk-serial::before {content: \"\";position: absolute;border-left: 1px solid gray;box-sizing: border-box;top: 0;bottom: 0;left: 50%;z-index: 0;}#sk-container-id-18 div.sk-serial {display: flex;flex-direction: column;align-items: center;background-color: white;padding-right: 0.2em;padding-left: 0.2em;position: relative;}#sk-container-id-18 div.sk-item {position: relative;z-index: 1;}#sk-container-id-18 div.sk-parallel {display: flex;align-items: stretch;justify-content: center;background-color: white;position: relative;}#sk-container-id-18 div.sk-item::before, #sk-container-id-18 div.sk-parallel-item::before {content: \"\";position: absolute;border-left: 1px solid gray;box-sizing: border-box;top: 0;bottom: 0;left: 50%;z-index: -1;}#sk-container-id-18 div.sk-parallel-item {display: flex;flex-direction: column;z-index: 1;position: relative;background-color: white;}#sk-container-id-18 div.sk-parallel-item:first-child::after {align-self: flex-end;width: 50%;}#sk-container-id-18 div.sk-parallel-item:last-child::after {align-self: flex-start;width: 50%;}#sk-container-id-18 div.sk-parallel-item:only-child::after {width: 0;}#sk-container-id-18 div.sk-dashed-wrapped {border: 1px dashed gray;margin: 0 0.4em 0.5em 0.4em;box-sizing: border-box;padding-bottom: 0.4em;background-color: white;}#sk-container-id-18 div.sk-label label {font-family: monospace;font-weight: bold;display: inline-block;line-height: 1.2em;}#sk-container-id-18 div.sk-label-container {text-align: center;}#sk-container-id-18 div.sk-container {/* jupyter's `normalize.less` sets `[hidden] { display: none; }` but bootstrap.min.css set `[hidden] { display: none !important; }` so we also need the `!important` here to be able to override the default hidden behavior on the sphinx rendered scikit-learn.org. See: https://github.com/scikit-learn/scikit-learn/issues/21755 */display: inline-block !important;position: relative;}#sk-container-id-18 div.sk-text-repr-fallback {display: none;}</style><div id=\"sk-container-id-18\" class=\"sk-top-container\"><div class=\"sk-text-repr-fallback\"><pre>LogisticRegression(max_iter=100000, solver=&#x27;liblinear&#x27;, verbose=1)</pre><b>In a Jupyter environment, please rerun this cell to show the HTML representation or trust the notebook. <br />On GitHub, the HTML representation is unable to render, please try loading this page with nbviewer.org.</b></div><div class=\"sk-container\" hidden><div class=\"sk-item\"><div class=\"sk-estimator sk-toggleable\"><input class=\"sk-toggleable__control sk-hidden--visually\" id=\"sk-estimator-id-18\" type=\"checkbox\" checked><label for=\"sk-estimator-id-18\" class=\"sk-toggleable__label sk-toggleable__label-arrow\">LogisticRegression</label><div class=\"sk-toggleable__content\"><pre>LogisticRegression(max_iter=100000, solver=&#x27;liblinear&#x27;, verbose=1)</pre></div></div></div></div></div>"
      ],
      "text/plain": [
       "LogisticRegression(max_iter=100000, solver='liblinear', verbose=1)"
      ]
     },
     "execution_count": 108,
     "metadata": {},
     "output_type": "execute_result"
    },
    {
     "name": "stdout",
     "output_type": "stream",
     "text": [
      "iter  1 act 1.435e+01 pre 1.312e+01 delta 2.832e+00 f 3.743e+01 |g| 1.616e+01 CG   3\n",
      "iter  2 act 7.510e-01 pre 6.953e-01 delta 2.832e+00 f 2.308e+01 |g| 3.127e+00 CG   3\n",
      "iter  3 act 1.234e-02 pre 1.219e-02 delta 2.832e+00 f 2.233e+01 |g| 4.051e-01 CG   2\n",
      "iter  4 act 4.199e-04 pre 4.197e-04 delta 2.832e+00 f 2.232e+01 |g| 3.909e-02 CG   3\n"
     ]
    }
   ],
   "source": [
    "model2 = LR(solver='liblinear', max_iter=100000, verbose=1)\n",
    "model2.fit(df_train2, y)"
   ]
  },
  {
   "cell_type": "code",
   "execution_count": 109,
   "id": "575b52c7-2ccc-4958-8439-a36d92fa3618",
   "metadata": {},
   "outputs": [
    {
     "name": "stdout",
     "output_type": "stream",
     "text": [
      "[0 0 1 0 1 1 1 1 1 0 0 1 0 1 1 1 1 1 0 0 1 0 1 1 1 1 1 0 0 1 0 1 1 1 1 1 0\n",
      " 0 1 0 1 1 1 1 1 0 0 1 0 1 1 1 1 1]\n",
      "[0 0 1 0 1 1 1 1 1 0 0 1 0 1 1 1 1 1 0 0 1 0 1 1 1 1 1 0 0 1 0 1 1 1 1 1 0\n",
      " 0 1 0 1 1 1 1 1 0 0 1 0 1 1 1 1 1]\n"
     ]
    }
   ],
   "source": [
    "print(model2.predict(df_train2))\n",
    "print(y.to_numpy())"
   ]
  },
  {
   "cell_type": "code",
   "execution_count": 102,
   "id": "2eb23e91-482c-4483-9fbe-0c2ce46d3831",
   "metadata": {},
   "outputs": [
    {
     "name": "stdout",
     "output_type": "stream",
     "text": [
      "[-1.6804230658142656, -0.44057783122649463, -1.6804230658142656, -0.44057783122649463]\n",
      "2.041055854787329\n"
     ]
    }
   ],
   "source": [
    "print(model2.coef_[0].tolist())\n",
    "print(model2.intercept_[0])"
   ]
  },
  {
   "cell_type": "code",
   "execution_count": 110,
   "id": "1c961305-194d-40fd-933e-9a95b22be6f2",
   "metadata": {},
   "outputs": [
    {
     "data": {
      "text/plain": [
       "1.0"
      ]
     },
     "execution_count": 110,
     "metadata": {},
     "output_type": "execute_result"
    }
   ],
   "source": [
    "model2.score(df_train2,y)"
   ]
  },
  {
   "cell_type": "code",
   "execution_count": 50,
   "id": "cbb505e7-734c-47a9-aa04-f5ca1744ca3a",
   "metadata": {},
   "outputs": [],
   "source": [
    "def model2_man(X):\n",
    "    b = model2.coef_[0].tolist()\n",
    "    b0 = model2.intercept_[0]\n",
    "    val = 1 / (1 + math.exp(-(np.dot(X,b) + b0)))\n",
    "    return val"
   ]
  },
  {
   "cell_type": "code",
   "execution_count": 51,
   "id": "1c433206-aad4-4146-824a-8b99c0355cd5",
   "metadata": {},
   "outputs": [],
   "source": [
    "def my_model2_man(X):\n",
    "    b = [-2,-1,-2,-1]\n",
    "    b0 = 6-3.5\n",
    "    val = 1 / (1 + math.exp(-(np.dot(X,b) + b0)))\n",
    "    return val"
   ]
  },
  {
   "cell_type": "code",
   "execution_count": 52,
   "id": "785af436-a8fa-45f2-9c21-b1466e25b6ae",
   "metadata": {},
   "outputs": [],
   "source": [
    "def check_results_models2(m):\n",
    "    expected = y.to_numpy().tolist()\n",
    "    results = []\n",
    "    for i in df_train2.index:\n",
    "        results.append(1 if m(df_train2.iloc[i]) >= 0.5 else 0)\n",
    "    print(results)\n",
    "    print(expected)\n",
    "    print('{}/{} wrong!'.format(sum([1 if r != ex else 0 for r,ex in zip(results, expected)]),(len(expected))))\n"
   ]
  },
  {
   "cell_type": "code",
   "execution_count": 53,
   "id": "9d340e87-6d5f-4d77-8002-afb3204d2c3c",
   "metadata": {},
   "outputs": [
    {
     "name": "stdout",
     "output_type": "stream",
     "text": [
      "modelo by sklearn\n",
      "[0, 0, 1, 0, 1, 1, 1, 1, 1, 0, 0, 1, 0, 1, 1, 1, 1, 1, 0, 0, 1, 0, 1, 1, 1, 1, 1, 0, 0, 1, 0, 1, 1, 1, 1, 1, 0, 0, 1, 0, 1, 1, 1, 1, 1, 0, 0, 1, 0, 1, 1, 1, 1, 1]\n",
      "[0, 0, 1, 0, 1, 1, 1, 1, 1, 0, 0, 1, 0, 1, 1, 1, 1, 1, 0, 0, 1, 0, 1, 1, 1, 1, 1, 0, 0, 1, 0, 1, 1, 1, 1, 1, 0, 0, 1, 0, 1, 1, 1, 1, 1, 0, 0, 1, 0, 1, 1, 1, 1, 1]\n",
      "0/54 wrong!\n"
     ]
    }
   ],
   "source": [
    "print('modelo by sklearn')\n",
    "check_results_models2(model2_man)"
   ]
  },
  {
   "cell_type": "code",
   "execution_count": 54,
   "id": "a0c99748-8337-43e9-b1ad-11c0d5aa3bf0",
   "metadata": {},
   "outputs": [
    {
     "name": "stdout",
     "output_type": "stream",
     "text": [
      "modelo by me\n",
      "[0, 0, 1, 0, 1, 1, 1, 1, 1, 0, 0, 1, 0, 1, 1, 1, 1, 1, 0, 0, 1, 0, 1, 1, 1, 1, 1, 0, 0, 1, 0, 1, 1, 1, 1, 1, 0, 0, 1, 0, 1, 1, 1, 1, 1, 0, 0, 1, 0, 1, 1, 1, 1, 1]\n",
      "[0, 0, 1, 0, 1, 1, 1, 1, 1, 0, 0, 1, 0, 1, 1, 1, 1, 1, 0, 0, 1, 0, 1, 1, 1, 1, 1, 0, 0, 1, 0, 1, 1, 1, 1, 1, 0, 0, 1, 0, 1, 1, 1, 1, 1, 0, 0, 1, 0, 1, 1, 1, 1, 1]\n",
      "0/54 wrong!\n"
     ]
    }
   ],
   "source": [
    "print('modelo by me')\n",
    "check_results_models2(my_model2_man)"
   ]
  },
  {
   "cell_type": "markdown",
   "id": "d62fd9c4-3a07-40ab-bc67-39b32146367a",
   "metadata": {
    "tags": []
   },
   "source": [
    "# Validations (with model without reduntand column)"
   ]
  },
  {
   "cell_type": "markdown",
   "id": "f5e35f27-eeb3-4092-8d29-3bd7bf1de126",
   "metadata": {},
   "source": [
    "We can do hot encoding in the Ticket, Sex columns"
   ]
  },
  {
   "cell_type": "code",
   "execution_count": 55,
   "id": "0de09967-ad16-44a1-8e38-2ffa38ef379f",
   "metadata": {},
   "outputs": [
    {
     "data": {
      "text/html": [
       "<div>\n",
       "<style scoped>\n",
       "    .dataframe tbody tr th:only-of-type {\n",
       "        vertical-align: middle;\n",
       "    }\n",
       "\n",
       "    .dataframe tbody tr th {\n",
       "        vertical-align: top;\n",
       "    }\n",
       "\n",
       "    .dataframe thead th {\n",
       "        text-align: right;\n",
       "    }\n",
       "</style>\n",
       "<table border=\"1\" class=\"dataframe\">\n",
       "  <thead>\n",
       "    <tr style=\"text-align: right;\">\n",
       "      <th></th>\n",
       "      <th>X1</th>\n",
       "      <th>X2</th>\n",
       "    </tr>\n",
       "  </thead>\n",
       "  <tbody>\n",
       "    <tr>\n",
       "      <th>0</th>\n",
       "      <td>a</td>\n",
       "      <td>a</td>\n",
       "    </tr>\n",
       "    <tr>\n",
       "      <th>1</th>\n",
       "      <td>a</td>\n",
       "      <td>b</td>\n",
       "    </tr>\n",
       "    <tr>\n",
       "      <th>2</th>\n",
       "      <td>b</td>\n",
       "      <td>a</td>\n",
       "    </tr>\n",
       "    <tr>\n",
       "      <th>3</th>\n",
       "      <td>b</td>\n",
       "      <td>b</td>\n",
       "    </tr>\n",
       "  </tbody>\n",
       "</table>\n",
       "</div>"
      ],
      "text/plain": [
       "  X1 X2\n",
       "0  a  a\n",
       "1  a  b\n",
       "2  b  a\n",
       "3  b  b"
      ]
     },
     "execution_count": 55,
     "metadata": {},
     "output_type": "execute_result"
    }
   ],
   "source": [
    "dv = pd.DataFrame({'X1': ['a','a','b','b'], 'X2': ['a','b','a','b']})\n",
    "dv"
   ]
  },
  {
   "cell_type": "code",
   "execution_count": 115,
   "id": "9551914f-7f66-4f22-ad79-dba6170d46a9",
   "metadata": {},
   "outputs": [
    {
     "data": {
      "text/html": [
       "<div>\n",
       "<style scoped>\n",
       "    .dataframe tbody tr th:only-of-type {\n",
       "        vertical-align: middle;\n",
       "    }\n",
       "\n",
       "    .dataframe tbody tr th {\n",
       "        vertical-align: top;\n",
       "    }\n",
       "\n",
       "    .dataframe thead th {\n",
       "        text-align: right;\n",
       "    }\n",
       "</style>\n",
       "<table border=\"1\" class=\"dataframe\">\n",
       "  <thead>\n",
       "    <tr style=\"text-align: right;\">\n",
       "      <th></th>\n",
       "      <th>X1_b</th>\n",
       "      <th>X1_c</th>\n",
       "      <th>X2_b</th>\n",
       "      <th>X2_c</th>\n",
       "    </tr>\n",
       "  </thead>\n",
       "  <tbody>\n",
       "    <tr>\n",
       "      <th>0</th>\n",
       "      <td>0</td>\n",
       "      <td>0</td>\n",
       "      <td>0</td>\n",
       "      <td>0</td>\n",
       "    </tr>\n",
       "    <tr>\n",
       "      <th>1</th>\n",
       "      <td>0</td>\n",
       "      <td>0</td>\n",
       "      <td>1</td>\n",
       "      <td>0</td>\n",
       "    </tr>\n",
       "    <tr>\n",
       "      <th>2</th>\n",
       "      <td>0</td>\n",
       "      <td>0</td>\n",
       "      <td>0</td>\n",
       "      <td>1</td>\n",
       "    </tr>\n",
       "    <tr>\n",
       "      <th>3</th>\n",
       "      <td>1</td>\n",
       "      <td>0</td>\n",
       "      <td>0</td>\n",
       "      <td>0</td>\n",
       "    </tr>\n",
       "    <tr>\n",
       "      <th>4</th>\n",
       "      <td>1</td>\n",
       "      <td>0</td>\n",
       "      <td>1</td>\n",
       "      <td>0</td>\n",
       "    </tr>\n",
       "  </tbody>\n",
       "</table>\n",
       "</div>"
      ],
      "text/plain": [
       "   X1_b  X1_c  X2_b  X2_c\n",
       "0     0     0     0     0\n",
       "1     0     0     1     0\n",
       "2     0     0     0     1\n",
       "3     1     0     0     0\n",
       "4     1     0     1     0"
      ]
     },
     "execution_count": 115,
     "metadata": {},
     "output_type": "execute_result"
    }
   ],
   "source": [
    "df_train2.head()"
   ]
  },
  {
   "cell_type": "code",
   "execution_count": 116,
   "id": "d78704db-e3bd-4ae1-b1b8-a7144b33a482",
   "metadata": {},
   "outputs": [
    {
     "name": "stdout",
     "output_type": "stream",
     "text": [
      "before reindex\n",
      "   X1_a  X1_b  X2_a  X2_b\n",
      "0     1     0     1     0\n",
      "1     1     0     0     1\n",
      "2     0     1     1     0\n",
      "3     0     1     0     1\n",
      "after reindex\n",
      "   X1_b  X1_c  X2_b  X2_c\n",
      "0     0     0     0     0\n",
      "1     0     0     1     0\n",
      "2     1     0     0     0\n",
      "3     1     0     1     0\n"
     ]
    }
   ],
   "source": [
    "dv_test = pd.get_dummies(dv)\n",
    "print('before reindex')\n",
    "print(dv_test)\n",
    "\n",
    "dv_test = dv_test.reindex(columns=df_train2.columns,fill_value=0)\n",
    "\n",
    "print('after reindex')\n",
    "print(dv_test)\n"
   ]
  },
  {
   "cell_type": "code",
   "execution_count": 117,
   "id": "15663c4e-028a-4e5e-bfa1-3150e78751ab",
   "metadata": {},
   "outputs": [
    {
     "data": {
      "text/plain": [
       "array([0, 0, 0, 1])"
      ]
     },
     "execution_count": 117,
     "metadata": {},
     "output_type": "execute_result"
    }
   ],
   "source": [
    "model2.predict(dv_test)"
   ]
  }
 ],
 "metadata": {
  "kernelspec": {
   "display_name": "Python 3 (ipykernel)",
   "language": "python",
   "name": "python3"
  },
  "language_info": {
   "codemirror_mode": {
    "name": "ipython",
    "version": 3
   },
   "file_extension": ".py",
   "mimetype": "text/x-python",
   "name": "python",
   "nbconvert_exporter": "python",
   "pygments_lexer": "ipython3",
   "version": "3.10.9"
  }
 },
 "nbformat": 4,
 "nbformat_minor": 5
}
