{
 "cells": [
  {
   "cell_type": "code",
   "execution_count": 71,
   "id": "bb6fbec1-e867-4c2e-8338-93798a77d073",
   "metadata": {},
   "outputs": [],
   "source": [
    "import numpy as np\n",
    "import statsmodels.api as sm\n",
    "import matplotlib.pyplot as plt"
   ]
  },
  {
   "cell_type": "code",
   "execution_count": 95,
   "id": "b5bb691e-4ed0-4c74-aa23-8ea8e6841550",
   "metadata": {},
   "outputs": [
    {
     "name": "stdout",
     "output_type": "stream",
     "text": [
      "[0 1 2 3]\n",
      "[  2   1  10 -10]\n",
      "corr x1 x2:\n",
      "[[ 1.         -0.42400242]\n",
      " [-0.42400242  1.        ]]\n",
      "[[1. 1.]\n",
      " [1. 1.]]\n"
     ]
    }
   ],
   "source": [
    "# Generate some sample data\n",
    "#x = np.random.rand(100)\n",
    "#y = 2*x + np.random.rand(100)\n",
    "\n",
    "#x = np.array([0,1,2,3,4])\n",
    "#y = np.array([1,3,5,6.1,10])\n",
    "x = np.array([[0,2],[1,1],[2,10],[3,-10]])\n",
    "y = np.array([1,3,5,7])\n",
    "print(x[:,0])\n",
    "print(x[:,1])\n",
    "print('corr x1 x2:')\n",
    "print(np.corrcoef(x[:,0],x[:,1]))\n",
    "print(np.corrcoef(x[:,0],x[:,0]))"
   ]
  },
  {
   "cell_type": "code",
   "execution_count": 96,
   "id": "a12c9b22-6468-4a82-be5e-8455883ec61b",
   "metadata": {},
   "outputs": [
    {
     "data": {
      "text/plain": [
       "array([[  1.,   0.,   2.],\n",
       "       [  1.,   1.,   1.],\n",
       "       [  1.,   2.,  10.],\n",
       "       [  1.,   3., -10.]])"
      ]
     },
     "execution_count": 96,
     "metadata": {},
     "output_type": "execute_result"
    }
   ],
   "source": [
    "# Add a constant to the independent variable array\n",
    "X = sm.add_constant(x)\n",
    "X"
   ]
  },
  {
   "cell_type": "code",
   "execution_count": 97,
   "id": "55a40d30-fb77-4e9c-b76f-65f530b23a8d",
   "metadata": {},
   "outputs": [
    {
     "name": "stdout",
     "output_type": "stream",
     "text": [
      "                            OLS Regression Results                            \n",
      "==============================================================================\n",
      "Dep. Variable:                      y   R-squared:                       1.000\n",
      "Model:                            OLS   Adj. R-squared:                  1.000\n",
      "Method:                 Least Squares   F-statistic:                 1.200e+30\n",
      "Date:                Tue, 25 Apr 2023   Prob (F-statistic):           6.45e-16\n",
      "Time:                        00:36:21   Log-Likelihood:                 131.01\n",
      "No. Observations:                   4   AIC:                            -256.0\n",
      "Df Residuals:                       1   BIC:                            -257.9\n",
      "Df Model:                           2                                         \n",
      "Covariance Type:            nonrobust                                         \n",
      "==============================================================================\n",
      "                 coef    std err          t      P>|t|      [0.025      0.975]\n",
      "------------------------------------------------------------------------------\n",
      "const          1.0000   2.64e-15   3.78e+14      0.000       1.000       1.000\n",
      "x1             2.0000   1.43e-15    1.4e+15      0.000       2.000       2.000\n",
      "x2           1.11e-16   2.24e-16      0.496      0.707   -2.73e-15    2.96e-15\n",
      "==============================================================================\n",
      "Omnibus:                          nan   Durbin-Watson:                   1.663\n",
      "Prob(Omnibus):                    nan   Jarque-Bera (JB):                0.754\n",
      "Skew:                           0.981   Prob(JB):                        0.686\n",
      "Kurtosis:                       2.181   Cond. No.                         14.5\n",
      "==============================================================================\n",
      "\n",
      "Notes:\n",
      "[1] Standard Errors assume that the covariance matrix of the errors is correctly specified.\n"
     ]
    },
    {
     "name": "stderr",
     "output_type": "stream",
     "text": [
      "/Users/sebastian/anaconda3/lib/python3.10/site-packages/statsmodels/stats/stattools.py:74: ValueWarning: omni_normtest is not valid with less than 8 observations; 4 samples were given.\n",
      "  warn(\"omni_normtest is not valid with less than 8 observations; %i \"\n"
     ]
    }
   ],
   "source": [
    "# Fit the linear regression model\n",
    "model = sm.OLS(y, X).fit()\n",
    "# Print the t and p values for the independent variable\n",
    "print(model.summary())"
   ]
  },
  {
   "cell_type": "code",
   "execution_count": 75,
   "id": "7c092a94-d367-4c42-b743-9caa14325cf0",
   "metadata": {},
   "outputs": [
    {
     "data": {
      "text/plain": [
       "array([1.03333333, 3.03333333, 5.03333333])"
      ]
     },
     "execution_count": 75,
     "metadata": {},
     "output_type": "execute_result"
    }
   ],
   "source": [
    "y_predict = model.predict(X)\n",
    "y_predict"
   ]
  },
  {
   "cell_type": "code",
   "execution_count": 76,
   "id": "1f787d7d-4071-4a2c-97aa-7f25d18459b8",
   "metadata": {},
   "outputs": [
    {
     "data": {
      "image/png": "[encoded data removed]",
      "text/plain": [
       "<Figure size 640x480 with 1 Axes>"
      ]
     },
     "metadata": {},
     "output_type": "display_data"
    }
   ],
   "source": [
    "plt.scatter(x,y)\n",
    "plt.plot(x,y_predict)\n",
    "plt.show()"
   ]
  },
  {
   "cell_type": "code",
   "execution_count": 77,
   "id": "c40e1102-a03f-47c2-a5cd-619c48766db6",
   "metadata": {},
   "outputs": [
    {
     "data": {
      "text/plain": [
       "0.05773502691896256"
      ]
     },
     "execution_count": 77,
     "metadata": {},
     "output_type": "execute_result"
    }
   ],
   "source": [
    "sy=np.sum((y_predict - y)**2)\n",
    "sx=np.sum((x-x.mean())**2)\n",
    "np.sqrt(sy/(sx*(len(x)-2)))"
   ]
  }
 ],
 "metadata": {
  "kernelspec": {
   "display_name": "Python 3 (ipykernel)",
   "language": "python",
   "name": "python3"
  },
  "language_info": {
   "codemirror_mode": {
    "name": "ipython",
    "version": 3
   },
   "file_extension": ".py",
   "mimetype": "text/x-python",
   "name": "python",
   "nbconvert_exporter": "python",
   "pygments_lexer": "ipython3",
   "version": "3.10.9"
  }
 },
 "nbformat": 4,
 "nbformat_minor": 5
}
